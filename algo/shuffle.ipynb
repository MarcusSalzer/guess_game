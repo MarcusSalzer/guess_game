{
 "cells": [
  {
   "cell_type": "code",
   "execution_count": null,
   "metadata": {},
   "outputs": [],
   "source": []
  },
  {
   "cell_type": "code",
   "execution_count": null,
   "metadata": {},
   "outputs": [],
   "source": [
    "import random\n",
    "\n",
    "\n",
    "def shuffle(n: int, seed=None) -> list[int]:\n",
    "    \"\"\"fisher-yates-shuffle\"\"\"\n",
    "    numbers = list(range(n))\n",
    "    shuffled = []\n",
    "    random.seed(seed)\n",
    "    while numbers:\n",
    "        k = random.randint(0, len(numbers) - 1)\n",
    "        shuffled.append(numbers.pop(k))\n",
    "    return shuffled\n",
    "\n",
    "\n",
    "n_num = 3\n",
    "n_iter = 10**4\n",
    "counts = {}\n",
    "for _ in range(n_iter):\n",
    "    seq = shuffle(n_num)\n",
    "    k = \"\".join(str(s) for s in seq)\n",
    "    c = counts.get(k)\n",
    "    if c is None:\n",
    "        counts[k] = 1\n",
    "    else:\n",
    "        counts[k] += 1\n",
    "\n",
    "display(counts)\n",
    "print(sorted(counts.keys()))"
   ]
  },
  {
   "cell_type": "code",
   "execution_count": null,
   "metadata": {},
   "outputs": [],
   "source": [
    "from random import randrange\n",
    "\n",
    "\n",
    "def sattolo_cycle(items: list) -> None:\n",
    "    \"\"\"Sattolo's algorithm.\"\"\"\n",
    "    i = len(items)\n",
    "    while i > 1:\n",
    "        i = i - 1\n",
    "        j = randrange(i)  # 0 <= j <= i-1\n",
    "        items[j], items[i] = items[i], items[j]\n",
    "\n",
    "\n",
    "n_num = 4\n",
    "n_iter = 10**4\n",
    "counts = {}\n",
    "for _ in range(n_iter):\n",
    "    seq = list(range(n_num))\n",
    "    sattolo_cycle(seq)\n",
    "    k = \"\".join(str(s) for s in seq)\n",
    "    c = counts.get(k)\n",
    "    if c is None:\n",
    "        counts[k] = 1\n",
    "    else:\n",
    "        counts[k] += 1\n",
    "\n",
    "display(counts)\n",
    "print(sorted(counts.keys()))"
   ]
  }
 ],
 "metadata": {
  "kernelspec": {
   "display_name": "_my_python",
   "language": "python",
   "name": "python3"
  },
  "language_info": {
   "codemirror_mode": {
    "name": "ipython",
    "version": 3
   },
   "file_extension": ".py",
   "mimetype": "text/x-python",
   "name": "python",
   "nbconvert_exporter": "python",
   "pygments_lexer": "ipython3",
   "version": "3.12.7"
  }
 },
 "nbformat": 4,
 "nbformat_minor": 2
}
