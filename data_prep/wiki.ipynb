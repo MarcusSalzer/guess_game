{
 "cells": [
  {
   "cell_type": "code",
   "execution_count": null,
   "metadata": {},
   "outputs": [
    {
     "name": "stdout",
     "output_type": "stream",
     "text": [
      "Celebrity - https://en.wikipedia.org/wiki/Celebrity\n",
      "Celebrity privacy - https://en.wikipedia.org/wiki/Celebrity_privacy\n",
      "15 minutes of fame - https://en.wikipedia.org/wiki/15_minutes_of_fame\n",
      "2014 celebrity nude photo leak - https://en.wikipedia.org/wiki/2014_celebrity_nude_photo_leak\n",
      "A-list - https://en.wikipedia.org/wiki/A-list\n",
      "Adoption by celebrities - https://en.wikipedia.org/wiki/Adoption_by_celebrities\n",
      "Asian of the Century - https://en.wikipedia.org/wiki/Asian_of_the_Century\n",
      "Bankable star - https://en.wikipedia.org/wiki/Bankable_star\n",
      "Cameo (website) - https://en.wikipedia.org/wiki/Cameo_(website)\n",
      "Cause Celeb - https://en.wikipedia.org/wiki/Cause_Celeb\n",
      "Celeb Jihad - https://en.wikipedia.org/wiki/Celeb_Jihad\n",
      "Celebrity board director - https://en.wikipedia.org/wiki/Celebrity_board_director\n",
      "Celebrity branding - https://en.wikipedia.org/wiki/Celebrity_branding\n",
      "Celebrity comics - https://en.wikipedia.org/wiki/Celebrity_comics\n",
      "Celebrity culture - https://en.wikipedia.org/wiki/Celebrity_culture\n",
      "Celebrity influence in politics - https://en.wikipedia.org/wiki/Celebrity_influence_in_politics\n",
      "Celebrity philanthropy - https://en.wikipedia.org/wiki/Celebrity_philanthropy\n",
      "Celebrity sex tape - https://en.wikipedia.org/wiki/Celebrity_sex_tape\n",
      "Celebrity Studies - https://en.wikipedia.org/wiki/Celebrity_Studies\n",
      "Celebrity–industrial complex - https://en.wikipedia.org/wiki/Celebrity–industrial_complex\n",
      "Celesbian - https://en.wikipedia.org/wiki/Celesbian\n",
      "Celebrity chef - https://en.wikipedia.org/wiki/Celebrity_chef\n",
      "Convoz - https://en.wikipedia.org/wiki/Convoz\n",
      "Davie-Brown Index - https://en.wikipedia.org/wiki/Davie-Brown_Index\n",
      "Entertainment Tonight - https://en.wikipedia.org/wiki/Entertainment_Tonight\n",
      "Exposed.su - https://en.wikipedia.org/wiki/Exposed.su\n",
      "Fame in the 20th Century - https://en.wikipedia.org/wiki/Fame_in_the_20th_Century\n",
      "Fame: an art project - https://en.wikipedia.org/wiki/Fame:_an_art_project\n",
      "Famous for being famous - https://en.wikipedia.org/wiki/Famous_for_being_famous\n",
      "Gay icon - https://en.wikipedia.org/wiki/Gay_icon\n",
      "Hollywood Backstage (1964 TV series) - https://en.wikipedia.org/wiki/Hollywood_Backstage_(1964_TV_series)\n",
      "Hollywood marriage - https://en.wikipedia.org/wiki/Hollywood_marriage\n",
      "Idol goods - https://en.wikipedia.org/wiki/Idol_goods\n",
      "Imagery of nude celebrities - https://en.wikipedia.org/wiki/Imagery_of_nude_celebrities\n",
      "Internet celebrity - https://en.wikipedia.org/wiki/Internet_celebrity\n",
      "Liquid News - https://en.wikipedia.org/wiki/Liquid_News\n",
      "Matinée idol - https://en.wikipedia.org/wiki/Matinée_idol\n",
      "Movie star - https://en.wikipedia.org/wiki/Movie_star\n",
      "Net idol - https://en.wikipedia.org/wiki/Net_idol\n",
      "Pandemonia - https://en.wikipedia.org/wiki/Pandemonia\n",
      "Paparazzi - https://en.wikipedia.org/wiki/Paparazzi\n",
      "Rope line - https://en.wikipedia.org/wiki/Rope_line\n",
      "Scientific celebrity - https://en.wikipedia.org/wiki/Scientific_celebrity\n",
      "Social media influencer - https://en.wikipedia.org/wiki/Social_media_influencer\n",
      "Star candidate - https://en.wikipedia.org/wiki/Star_candidate\n",
      "Starsuckers - https://en.wikipedia.org/wiki/Starsuckers\n",
      "Stunt casting - https://en.wikipedia.org/wiki/Stunt_casting\n",
      "Superficiality - https://en.wikipedia.org/wiki/Superficiality\n",
      "Supermodel - https://en.wikipedia.org/wiki/Supermodel\n",
      "Superstar - https://en.wikipedia.org/wiki/Superstar\n"
     ]
    }
   ],
   "source": [
    "import requests\n",
    "\n",
    "\n",
    "def fetch_wikipedia_category_with_urls(category):\n",
    "    url = \"https://en.wikipedia.org/w/api.php\"\n",
    "    params = {\n",
    "        \"action\": \"query\",\n",
    "        \"list\": \"categorymembers\",\n",
    "        \"cmtitle\": f\"Category:{category}\",\n",
    "        \"cmlimit\": 5,\n",
    "        \"format\": \"json\",\n",
    "    }\n",
    "    response = requests.get(url, params=params)\n",
    "    if response.status_code == 200:\n",
    "        data = response.json()\n",
    "        results = []\n",
    "        for item in data[\"query\"][\"categorymembers\"]:\n",
    "            title = item[\"title\"]\n",
    "            page_url = f\"https://en.wikipedia.org/wiki/{title.replace(' ', '_')}\"\n",
    "            results.append({\"title\": title, \"url\": page_url})\n",
    "        return results\n",
    "    else:\n",
    "        print(f\"Failed to fetch data: {response.status_code}\")\n",
    "        return []\n",
    "\n",
    "\n",
    "brands = fetch_wikipedia_category_with_urls(\"Celebrity\")\n",
    "for entry in brands:\n",
    "    print(f\"{entry['title']} - {entry['url']}\")\n"
   ]
  }
 ],
 "metadata": {
  "kernelspec": {
   "display_name": "_my_python",
   "language": "python",
   "name": "python3"
  },
  "language_info": {
   "codemirror_mode": {
    "name": "ipython",
    "version": 3
   },
   "file_extension": ".py",
   "mimetype": "text/x-python",
   "name": "python",
   "nbconvert_exporter": "python",
   "pygments_lexer": "ipython3",
   "version": "3.12.7"
  }
 },
 "nbformat": 4,
 "nbformat_minor": 2
}
